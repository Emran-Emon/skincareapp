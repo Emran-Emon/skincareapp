{
  "nbformat": 4,
  "nbformat_minor": 0,
  "metadata": {
    "colab": {
      "provenance": [],
      "gpuType": "T4"
    },
    "kernelspec": {
      "name": "python3",
      "display_name": "Python 3"
    },
    "language_info": {
      "name": "python"
    },
    "accelerator": "GPU"
  },
  "cells": [
    {
      "cell_type": "code",
      "execution_count": null,
      "metadata": {
        "colab": {
          "base_uri": "https://localhost:8080/"
        },
        "id": "tx58HlmkodYc",
        "outputId": "75f894a9-75d8-4437-99e8-b8c78d8a625c"
      },
      "outputs": [
        {
          "output_type": "stream",
          "name": "stdout",
          "text": [
            "Drive already mounted at /content/drive; to attempt to forcibly remount, call drive.mount(\"/content/drive\", force_remount=True).\n"
          ]
        }
      ],
      "source": [
        "import tensorflow as tf\n",
        "import pandas as pd\n",
        "import numpy as np\n",
        "import os\n",
        "import random\n",
        "from google.colab import drive\n",
        "from sklearn.model_selection import train_test_split\n",
        "from tensorflow.keras import layers, Model\n",
        "from tensorflow.keras.applications import DenseNet121\n",
        "from tensorflow.keras import mixed_precision\n",
        "\n",
        "drive.mount('/content/drive')"
      ]
    },
    {
      "cell_type": "code",
      "source": [
        "IMG_SIZE = (224, 224)\n",
        "BATCH_SIZE = 32\n",
        "CLASSES = [\"acne\", \"pigmentation\", \"wrinkles\"]\n",
        "DATA_ROOT = \"/content/drive/MyDrive/skincareapp/acne clean pigmentation wrinkles/\"\n",
        "\n",
        "df = pd.read_csv(os.path.join(DATA_ROOT, \"labels.csv\"))\n",
        "df[\"filename\"] = df[\"filename\"].apply(lambda x: os.path.join(DATA_ROOT, x))"
      ],
      "metadata": {
        "id": "ELiQ5Ig6pTH7"
      },
      "execution_count": null,
      "outputs": []
    },
    {
      "cell_type": "code",
      "source": [
        "train_val_df, test_df = train_test_split(df, test_size=0.15, random_state=42, stratify=df[CLASSES])\n",
        "train_df, val_df = train_test_split(train_val_df, test_size=0.15, random_state=42, stratify=train_val_df[CLASSES])\n",
        "\n",
        "pos_counts = train_df[CLASSES].sum().values"
      ],
      "metadata": {
        "id": "Wzbl9ryQpbnB"
      },
      "execution_count": null,
      "outputs": []
    },
    {
      "cell_type": "code",
      "source": [
        "#Data Augmentation\n",
        "data_augmentation = tf.keras.Sequential([\n",
        "    layers.RandomFlip(\"horizontal\"),\n",
        "    layers.RandomRotation(0.3),\n",
        "    layers.RandomZoom(0.3),\n",
        "    layers.RandomContrast(0.2),\n",
        "], name=\"data_augmentation\")\n",
        "\n",
        "#Create tf.data Pipelines\n",
        "def parse_function(filename, labels):\n",
        "    image_string = tf.io.read_file(filename)\n",
        "    image_decoded = tf.io.decode_jpeg(image_string, channels=3)\n",
        "    image = tf.image.convert_image_dtype(image_decoded, tf.float32)\n",
        "    image_resized = tf.image.resize(image, IMG_SIZE)\n",
        "    return image_resized, labels\n",
        "\n",
        "def create_dataset(df, batch_size, augment=False, cache_file=None):\n",
        "    dataset = tf.data.Dataset.from_tensor_slices(\n",
        "        (df[\"filename\"].values, df[CLASSES].values.astype(np.float32))\n",
        "    )\n",
        "    dataset = dataset.map(parse_function, num_parallel_calls=tf.data.AUTOTUNE)\n",
        "\n",
        "    if augment:\n",
        "        dataset = dataset.map(lambda x, y: (data_augmentation(x, training=True), y),\n",
        "                              num_parallel_calls=tf.data.AUTOTUNE)\n",
        "\n",
        "    if cache_file:\n",
        "        dataset = dataset.cache(cache_file)\n",
        "    else:\n",
        "        dataset = dataset.cache()\n",
        "\n",
        "    dataset = dataset.batch(batch_size)\n",
        "    dataset = dataset.prefetch(buffer_size=tf.data.AUTOTUNE)\n",
        "    return dataset\n",
        "\n",
        "#Create the datasets with disk caching\n",
        "train_cache_file = os.path.join(DATA_ROOT, 'train_cache_densenet')\n",
        "val_cache_file = os.path.join(DATA_ROOT, 'val_cache_densenet')\n",
        "\n",
        "train_ds = create_dataset(train_df, BATCH_SIZE, augment=True, cache_file=train_cache_file)\n",
        "val_ds = create_dataset(val_df, BATCH_SIZE, augment=False, cache_file=val_cache_file)\n",
        "test_ds = create_dataset(test_df, BATCH_SIZE, augment=False)\n",
        "\n",
        "print(\"tf.data pipelines created successfully with disk caching enabled.\")"
      ],
      "metadata": {
        "colab": {
          "base_uri": "https://localhost:8080/"
        },
        "id": "BFsa0Uv2phYP",
        "outputId": "98d6577c-0f8e-4b94-ab4b-db336dbac974"
      },
      "execution_count": null,
      "outputs": [
        {
          "output_type": "stream",
          "name": "stdout",
          "text": [
            "tf.data pipelines created successfully with disk caching enabled.\n"
          ]
        }
      ]
    },
    {
      "cell_type": "code",
      "source": [
        "def build_densenet(input_shape, num_classes):\n",
        "    base_model = DenseNet121(\n",
        "        include_top=False,\n",
        "        input_shape=input_shape,\n",
        "        weights=\"imagenet\"\n",
        "    )\n",
        "\n",
        "    inputs = layers.Input(shape=input_shape)\n",
        "\n",
        "    x = tf.keras.applications.densenet.preprocess_input(inputs)\n",
        "    x = base_model(x, training=False)\n",
        "    x = layers.GlobalAveragePooling2D()(x)\n",
        "    x = layers.Dropout(0.5)(x)\n",
        "\n",
        "    outputs = layers.Dense(num_classes, activation=\"sigmoid\", dtype='float32')(x)\n",
        "    model = Model(inputs, outputs, name=\"densenet121_model\")\n",
        "    return model\n",
        "\n",
        "tf.keras.backend.clear_session()\n",
        "densenet_model = build_densenet(input_shape=IMG_SIZE + (3,), num_classes=len(CLASSES))\n",
        "densenet_model.summary()"
      ],
      "metadata": {
        "colab": {
          "base_uri": "https://localhost:8080/",
          "height": 425
        },
        "id": "kVEyeuZyppTt",
        "outputId": "1e7767d2-45e2-4b06-8e78-8d5dc8e1e5d4"
      },
      "execution_count": null,
      "outputs": [
        {
          "output_type": "display_data",
          "data": {
            "text/plain": [
              "\u001b[1mModel: \"densenet121_model\"\u001b[0m\n"
            ],
            "text/html": [
              "<pre style=\"white-space:pre;overflow-x:auto;line-height:normal;font-family:Menlo,'DejaVu Sans Mono',consolas,'Courier New',monospace\"><span style=\"font-weight: bold\">Model: \"densenet121_model\"</span>\n",
              "</pre>\n"
            ]
          },
          "metadata": {}
        },
        {
          "output_type": "display_data",
          "data": {
            "text/plain": [
              "┏━━━━━━━━━━━━━━━━━━━━━━━━━━━━━━━━━┳━━━━━━━━━━━━━━━━━━━━━━━━┳━━━━━━━━━━━━━━━┓\n",
              "┃\u001b[1m \u001b[0m\u001b[1mLayer (type)                   \u001b[0m\u001b[1m \u001b[0m┃\u001b[1m \u001b[0m\u001b[1mOutput Shape          \u001b[0m\u001b[1m \u001b[0m┃\u001b[1m \u001b[0m\u001b[1m      Param #\u001b[0m\u001b[1m \u001b[0m┃\n",
              "┡━━━━━━━━━━━━━━━━━━━━━━━━━━━━━━━━━╇━━━━━━━━━━━━━━━━━━━━━━━━╇━━━━━━━━━━━━━━━┩\n",
              "│ input_layer_1 (\u001b[38;5;33mInputLayer\u001b[0m)      │ (\u001b[38;5;45mNone\u001b[0m, \u001b[38;5;34m224\u001b[0m, \u001b[38;5;34m224\u001b[0m, \u001b[38;5;34m3\u001b[0m)    │             \u001b[38;5;34m0\u001b[0m │\n",
              "├─────────────────────────────────┼────────────────────────┼───────────────┤\n",
              "│ true_divide (\u001b[38;5;33mTrueDivide\u001b[0m)        │ (\u001b[38;5;45mNone\u001b[0m, \u001b[38;5;34m224\u001b[0m, \u001b[38;5;34m224\u001b[0m, \u001b[38;5;34m3\u001b[0m)    │             \u001b[38;5;34m0\u001b[0m │\n",
              "├─────────────────────────────────┼────────────────────────┼───────────────┤\n",
              "│ add (\u001b[38;5;33mAdd\u001b[0m)                       │ (\u001b[38;5;45mNone\u001b[0m, \u001b[38;5;34m224\u001b[0m, \u001b[38;5;34m224\u001b[0m, \u001b[38;5;34m3\u001b[0m)    │             \u001b[38;5;34m0\u001b[0m │\n",
              "├─────────────────────────────────┼────────────────────────┼───────────────┤\n",
              "│ true_divide_1 (\u001b[38;5;33mTrueDivide\u001b[0m)      │ (\u001b[38;5;45mNone\u001b[0m, \u001b[38;5;34m224\u001b[0m, \u001b[38;5;34m224\u001b[0m, \u001b[38;5;34m3\u001b[0m)    │             \u001b[38;5;34m0\u001b[0m │\n",
              "├─────────────────────────────────┼────────────────────────┼───────────────┤\n",
              "│ densenet121 (\u001b[38;5;33mFunctional\u001b[0m)        │ (\u001b[38;5;45mNone\u001b[0m, \u001b[38;5;34m7\u001b[0m, \u001b[38;5;34m7\u001b[0m, \u001b[38;5;34m1024\u001b[0m)     │     \u001b[38;5;34m7,037,504\u001b[0m │\n",
              "├─────────────────────────────────┼────────────────────────┼───────────────┤\n",
              "│ global_average_pooling2d        │ (\u001b[38;5;45mNone\u001b[0m, \u001b[38;5;34m1024\u001b[0m)           │             \u001b[38;5;34m0\u001b[0m │\n",
              "│ (\u001b[38;5;33mGlobalAveragePooling2D\u001b[0m)        │                        │               │\n",
              "├─────────────────────────────────┼────────────────────────┼───────────────┤\n",
              "│ dropout (\u001b[38;5;33mDropout\u001b[0m)               │ (\u001b[38;5;45mNone\u001b[0m, \u001b[38;5;34m1024\u001b[0m)           │             \u001b[38;5;34m0\u001b[0m │\n",
              "├─────────────────────────────────┼────────────────────────┼───────────────┤\n",
              "│ dense (\u001b[38;5;33mDense\u001b[0m)                   │ (\u001b[38;5;45mNone\u001b[0m, \u001b[38;5;34m3\u001b[0m)              │         \u001b[38;5;34m3,075\u001b[0m │\n",
              "└─────────────────────────────────┴────────────────────────┴───────────────┘\n"
            ],
            "text/html": [
              "<pre style=\"white-space:pre;overflow-x:auto;line-height:normal;font-family:Menlo,'DejaVu Sans Mono',consolas,'Courier New',monospace\">┏━━━━━━━━━━━━━━━━━━━━━━━━━━━━━━━━━┳━━━━━━━━━━━━━━━━━━━━━━━━┳━━━━━━━━━━━━━━━┓\n",
              "┃<span style=\"font-weight: bold\"> Layer (type)                    </span>┃<span style=\"font-weight: bold\"> Output Shape           </span>┃<span style=\"font-weight: bold\">       Param # </span>┃\n",
              "┡━━━━━━━━━━━━━━━━━━━━━━━━━━━━━━━━━╇━━━━━━━━━━━━━━━━━━━━━━━━╇━━━━━━━━━━━━━━━┩\n",
              "│ input_layer_1 (<span style=\"color: #0087ff; text-decoration-color: #0087ff\">InputLayer</span>)      │ (<span style=\"color: #00d7ff; text-decoration-color: #00d7ff\">None</span>, <span style=\"color: #00af00; text-decoration-color: #00af00\">224</span>, <span style=\"color: #00af00; text-decoration-color: #00af00\">224</span>, <span style=\"color: #00af00; text-decoration-color: #00af00\">3</span>)    │             <span style=\"color: #00af00; text-decoration-color: #00af00\">0</span> │\n",
              "├─────────────────────────────────┼────────────────────────┼───────────────┤\n",
              "│ true_divide (<span style=\"color: #0087ff; text-decoration-color: #0087ff\">TrueDivide</span>)        │ (<span style=\"color: #00d7ff; text-decoration-color: #00d7ff\">None</span>, <span style=\"color: #00af00; text-decoration-color: #00af00\">224</span>, <span style=\"color: #00af00; text-decoration-color: #00af00\">224</span>, <span style=\"color: #00af00; text-decoration-color: #00af00\">3</span>)    │             <span style=\"color: #00af00; text-decoration-color: #00af00\">0</span> │\n",
              "├─────────────────────────────────┼────────────────────────┼───────────────┤\n",
              "│ add (<span style=\"color: #0087ff; text-decoration-color: #0087ff\">Add</span>)                       │ (<span style=\"color: #00d7ff; text-decoration-color: #00d7ff\">None</span>, <span style=\"color: #00af00; text-decoration-color: #00af00\">224</span>, <span style=\"color: #00af00; text-decoration-color: #00af00\">224</span>, <span style=\"color: #00af00; text-decoration-color: #00af00\">3</span>)    │             <span style=\"color: #00af00; text-decoration-color: #00af00\">0</span> │\n",
              "├─────────────────────────────────┼────────────────────────┼───────────────┤\n",
              "│ true_divide_1 (<span style=\"color: #0087ff; text-decoration-color: #0087ff\">TrueDivide</span>)      │ (<span style=\"color: #00d7ff; text-decoration-color: #00d7ff\">None</span>, <span style=\"color: #00af00; text-decoration-color: #00af00\">224</span>, <span style=\"color: #00af00; text-decoration-color: #00af00\">224</span>, <span style=\"color: #00af00; text-decoration-color: #00af00\">3</span>)    │             <span style=\"color: #00af00; text-decoration-color: #00af00\">0</span> │\n",
              "├─────────────────────────────────┼────────────────────────┼───────────────┤\n",
              "│ densenet121 (<span style=\"color: #0087ff; text-decoration-color: #0087ff\">Functional</span>)        │ (<span style=\"color: #00d7ff; text-decoration-color: #00d7ff\">None</span>, <span style=\"color: #00af00; text-decoration-color: #00af00\">7</span>, <span style=\"color: #00af00; text-decoration-color: #00af00\">7</span>, <span style=\"color: #00af00; text-decoration-color: #00af00\">1024</span>)     │     <span style=\"color: #00af00; text-decoration-color: #00af00\">7,037,504</span> │\n",
              "├─────────────────────────────────┼────────────────────────┼───────────────┤\n",
              "│ global_average_pooling2d        │ (<span style=\"color: #00d7ff; text-decoration-color: #00d7ff\">None</span>, <span style=\"color: #00af00; text-decoration-color: #00af00\">1024</span>)           │             <span style=\"color: #00af00; text-decoration-color: #00af00\">0</span> │\n",
              "│ (<span style=\"color: #0087ff; text-decoration-color: #0087ff\">GlobalAveragePooling2D</span>)        │                        │               │\n",
              "├─────────────────────────────────┼────────────────────────┼───────────────┤\n",
              "│ dropout (<span style=\"color: #0087ff; text-decoration-color: #0087ff\">Dropout</span>)               │ (<span style=\"color: #00d7ff; text-decoration-color: #00d7ff\">None</span>, <span style=\"color: #00af00; text-decoration-color: #00af00\">1024</span>)           │             <span style=\"color: #00af00; text-decoration-color: #00af00\">0</span> │\n",
              "├─────────────────────────────────┼────────────────────────┼───────────────┤\n",
              "│ dense (<span style=\"color: #0087ff; text-decoration-color: #0087ff\">Dense</span>)                   │ (<span style=\"color: #00d7ff; text-decoration-color: #00d7ff\">None</span>, <span style=\"color: #00af00; text-decoration-color: #00af00\">3</span>)              │         <span style=\"color: #00af00; text-decoration-color: #00af00\">3,075</span> │\n",
              "└─────────────────────────────────┴────────────────────────┴───────────────┘\n",
              "</pre>\n"
            ]
          },
          "metadata": {}
        },
        {
          "output_type": "display_data",
          "data": {
            "text/plain": [
              "\u001b[1m Total params: \u001b[0m\u001b[38;5;34m7,040,579\u001b[0m (26.86 MB)\n"
            ],
            "text/html": [
              "<pre style=\"white-space:pre;overflow-x:auto;line-height:normal;font-family:Menlo,'DejaVu Sans Mono',consolas,'Courier New',monospace\"><span style=\"font-weight: bold\"> Total params: </span><span style=\"color: #00af00; text-decoration-color: #00af00\">7,040,579</span> (26.86 MB)\n",
              "</pre>\n"
            ]
          },
          "metadata": {}
        },
        {
          "output_type": "display_data",
          "data": {
            "text/plain": [
              "\u001b[1m Trainable params: \u001b[0m\u001b[38;5;34m6,956,931\u001b[0m (26.54 MB)\n"
            ],
            "text/html": [
              "<pre style=\"white-space:pre;overflow-x:auto;line-height:normal;font-family:Menlo,'DejaVu Sans Mono',consolas,'Courier New',monospace\"><span style=\"font-weight: bold\"> Trainable params: </span><span style=\"color: #00af00; text-decoration-color: #00af00\">6,956,931</span> (26.54 MB)\n",
              "</pre>\n"
            ]
          },
          "metadata": {}
        },
        {
          "output_type": "display_data",
          "data": {
            "text/plain": [
              "\u001b[1m Non-trainable params: \u001b[0m\u001b[38;5;34m83,648\u001b[0m (326.75 KB)\n"
            ],
            "text/html": [
              "<pre style=\"white-space:pre;overflow-x:auto;line-height:normal;font-family:Menlo,'DejaVu Sans Mono',consolas,'Courier New',monospace\"><span style=\"font-weight: bold\"> Non-trainable params: </span><span style=\"color: #00af00; text-decoration-color: #00af00\">83,648</span> (326.75 KB)\n",
              "</pre>\n"
            ]
          },
          "metadata": {}
        }
      ]
    },
    {
      "cell_type": "code",
      "source": [
        "#Custom Weighted Binary Cross-Entropy Loss\n",
        "def weighted_bce(y_true, y_pred, smooth=0.05):\n",
        "    y_true = y_true * (1.0 - smooth) + 0.5 * smooth\n",
        "    bce = tf.keras.backend.binary_crossentropy(y_true, y_pred)\n",
        "    pos = tf.constant(pos_counts, dtype=tf.float32)\n",
        "    neg = len(train_df) - pos\n",
        "    w_pos = neg / tf.maximum(pos, 1.0)\n",
        "    w_neg = tf.ones_like(pos)\n",
        "    weights = y_true * w_pos + (1.0 - y_true) * w_neg\n",
        "    return tf.reduce_mean(bce * weights)\n",
        "\n",
        "#Callbacks\n",
        "DENSENET_MODEL_PATH = os.path.join(DATA_ROOT, \"densenet_skin_model.keras\")\n",
        "callbacks = [\n",
        "    tf.keras.callbacks.EarlyStopping(monitor=\"val_auc\", mode=\"max\", patience=7, restore_best_weights=True),\n",
        "    tf.keras.callbacks.ReduceLROnPlateau(monitor=\"val_auc\", mode=\"max\", factor=0.2, patience=3, min_lr=1e-6),\n",
        "    tf.keras.callbacks.ModelCheckpoint(DENSENET_MODEL_PATH, monitor=\"val_auc\", mode=\"max\", save_best_only=True)\n",
        "]\n",
        "\n",
        "#STAGE 1: FEATURE EXTRACTION\n",
        "print(\"\\nStage 1: Training the classification head...\")\n",
        "densenet_model.get_layer(\"densenet121\").trainable = False\n",
        "densenet_model.compile(\n",
        "    optimizer=tf.keras.optimizers.AdamW(learning_rate=1e-3, weight_decay=1e-4),\n",
        "    loss=weighted_bce,\n",
        "    metrics=[\"acc\", \"auc\"]\n",
        ")\n",
        "history_head = densenet_model.fit(\n",
        "    train_ds,\n",
        "    validation_data=val_ds,\n",
        "    epochs=10,\n",
        "    verbose=1\n",
        ")\n",
        "\n",
        "#STAGE 2: FINE-TUNING\n",
        "print(\"\\nStage 2: Unfreezing and fine-tuning the entire model...\")\n",
        "densenet_model.get_layer(\"densenet121\").trainable = True\n",
        "densenet_model.compile(\n",
        "    optimizer=tf.keras.optimizers.AdamW(learning_rate=1e-5, weight_decay=1e-4),\n",
        "    loss=weighted_bce,\n",
        "    metrics=[\n",
        "        tf.keras.metrics.BinaryAccuracy(name=\"acc\", threshold=0.5),\n",
        "        tf.keras.metrics.AUC(name=\"auc\", multi_label=True),\n",
        "        tf.keras.metrics.Precision(name=\"precision\"),\n",
        "        tf.keras.metrics.Recall(name=\"recall\")\n",
        "    ]\n",
        ")\n",
        "history_fine_tune = densenet_model.fit(\n",
        "    train_ds,\n",
        "    validation_data=val_ds,\n",
        "    epochs=50,\n",
        "    callbacks=callbacks,\n",
        "    initial_epoch=len(history_head.history['loss']),\n",
        "    verbose=1\n",
        ")"
      ],
      "metadata": {
        "colab": {
          "base_uri": "https://localhost:8080/"
        },
        "id": "5jSKhv4wpxb4",
        "outputId": "ab7a2455-6bd7-47ad-f4c4-3912124d0f24"
      },
      "execution_count": null,
      "outputs": [
        {
          "output_type": "stream",
          "name": "stdout",
          "text": [
            "\n",
            "Stage 1: Training the classification head...\n",
            "Epoch 1/10\n",
            "\u001b[1m115/115\u001b[0m \u001b[32m━━━━━━━━━━━━━━━━━━━━\u001b[0m\u001b[37m\u001b[0m \u001b[1m313s\u001b[0m 2s/step - acc: 0.3000 - auc: 0.5428 - loss: 1.2201 - val_acc: 0.5015 - val_auc: 0.8472 - val_loss: 1.0761\n",
            "Epoch 2/10\n",
            "\u001b[1m115/115\u001b[0m \u001b[32m━━━━━━━━━━━━━━━━━━━━\u001b[0m\u001b[37m\u001b[0m \u001b[1m11s\u001b[0m 99ms/step - acc: 0.3918 - auc: 0.6832 - loss: 1.0999 - val_acc: 0.5077 - val_auc: 0.8441 - val_loss: 1.0263\n",
            "Epoch 3/10\n",
            "\u001b[1m115/115\u001b[0m \u001b[32m━━━━━━━━━━━━━━━━━━━━\u001b[0m\u001b[37m\u001b[0m \u001b[1m20s\u001b[0m 172ms/step - acc: 0.4283 - auc: 0.7465 - loss: 1.0474 - val_acc: 0.5155 - val_auc: 0.8529 - val_loss: 0.9931\n",
            "Epoch 4/10\n",
            "\u001b[1m115/115\u001b[0m \u001b[32m━━━━━━━━━━━━━━━━━━━━\u001b[0m\u001b[37m\u001b[0m \u001b[1m12s\u001b[0m 101ms/step - acc: 0.4477 - auc: 0.7846 - loss: 1.0072 - val_acc: 0.5046 - val_auc: 0.8511 - val_loss: 0.9698\n",
            "Epoch 5/10\n",
            "\u001b[1m115/115\u001b[0m \u001b[32m━━━━━━━━━━━━━━━━━━━━\u001b[0m\u001b[37m\u001b[0m \u001b[1m11s\u001b[0m 97ms/step - acc: 0.4622 - auc: 0.7982 - loss: 0.9812 - val_acc: 0.5046 - val_auc: 0.8519 - val_loss: 0.9547\n",
            "Epoch 6/10\n",
            "\u001b[1m115/115\u001b[0m \u001b[32m━━━━━━━━━━━━━━━━━━━━\u001b[0m\u001b[37m\u001b[0m \u001b[1m12s\u001b[0m 102ms/step - acc: 0.4576 - auc: 0.7997 - loss: 0.9725 - val_acc: 0.5062 - val_auc: 0.8544 - val_loss: 0.9428\n",
            "Epoch 7/10\n",
            "\u001b[1m115/115\u001b[0m \u001b[32m━━━━━━━━━━━━━━━━━━━━\u001b[0m\u001b[37m\u001b[0m \u001b[1m20s\u001b[0m 96ms/step - acc: 0.4729 - auc: 0.8082 - loss: 0.9575 - val_acc: 0.5062 - val_auc: 0.8538 - val_loss: 0.9331\n",
            "Epoch 8/10\n",
            "\u001b[1m115/115\u001b[0m \u001b[32m━━━━━━━━━━━━━━━━━━━━\u001b[0m\u001b[37m\u001b[0m \u001b[1m12s\u001b[0m 98ms/step - acc: 0.4866 - auc: 0.8174 - loss: 0.9446 - val_acc: 0.5031 - val_auc: 0.8581 - val_loss: 0.9242\n",
            "Epoch 9/10\n",
            "\u001b[1m115/115\u001b[0m \u001b[32m━━━━━━━━━━━━━━━━━━━━\u001b[0m\u001b[37m\u001b[0m \u001b[1m11s\u001b[0m 98ms/step - acc: 0.4759 - auc: 0.8139 - loss: 0.9401 - val_acc: 0.5108 - val_auc: 0.8605 - val_loss: 0.9176\n",
            "Epoch 10/10\n",
            "\u001b[1m115/115\u001b[0m \u001b[32m━━━━━━━━━━━━━━━━━━━━\u001b[0m\u001b[37m\u001b[0m \u001b[1m12s\u001b[0m 101ms/step - acc: 0.4748 - auc: 0.8189 - loss: 0.9336 - val_acc: 0.5093 - val_auc: 0.8635 - val_loss: 0.9114\n",
            "\n",
            "Stage 2: Unfreezing and fine-tuning the entire model...\n",
            "Epoch 11/50\n",
            "\u001b[1m115/115\u001b[0m \u001b[32m━━━━━━━━━━━━━━━━━━━━\u001b[0m\u001b[37m\u001b[0m \u001b[1m409s\u001b[0m 2s/step - acc: 0.5499 - auc: 0.5705 - loss: 7.7810 - precision: 0.1526 - recall: 0.2955 - val_acc: 0.5418 - val_auc: 0.6081 - val_loss: 3.9200 - val_precision: 0.1053 - val_recall: 0.1799 - learning_rate: 1.0000e-05\n",
            "Epoch 12/50\n",
            "\u001b[1m115/115\u001b[0m \u001b[32m━━━━━━━━━━━━━━━━━━━━\u001b[0m\u001b[37m\u001b[0m \u001b[1m36s\u001b[0m 312ms/step - acc: 0.6511 - auc: 0.8049 - loss: 4.1282 - precision: 0.3323 - recall: 0.7939 - val_acc: 0.5351 - val_auc: 0.5511 - val_loss: 5.8264 - val_precision: 0.1259 - val_recall: 0.2328 - learning_rate: 1.0000e-05\n",
            "Epoch 13/50\n",
            "\u001b[1m115/115\u001b[0m \u001b[32m━━━━━━━━━━━━━━━━━━━━\u001b[0m\u001b[37m\u001b[0m \u001b[1m37s\u001b[0m 317ms/step - acc: 0.7313 - auc: 0.8578 - loss: 3.0718 - precision: 0.4072 - recall: 0.8482 - val_acc: 0.4618 - val_auc: 0.6488 - val_loss: 5.4092 - val_precision: 0.1762 - val_recall: 0.4788 - learning_rate: 1.0000e-05\n",
            "Epoch 14/50\n",
            "\u001b[1m115/115\u001b[0m \u001b[32m━━━━━━━━━━━━━━━━━━━━\u001b[0m\u001b[37m\u001b[0m \u001b[1m37s\u001b[0m 316ms/step - acc: 0.7901 - auc: 0.8877 - loss: 2.6033 - precision: 0.4769 - recall: 0.8668 - val_acc: 0.5304 - val_auc: 0.5941 - val_loss: 5.3949 - val_precision: 0.1963 - val_recall: 0.4550 - learning_rate: 1.0000e-05\n",
            "Epoch 15/50\n",
            "\u001b[1m115/115\u001b[0m \u001b[32m━━━━━━━━━━━━━━━━━━━━\u001b[0m\u001b[37m\u001b[0m \u001b[1m35s\u001b[0m 304ms/step - acc: 0.8094 - auc: 0.8961 - loss: 2.3517 - precision: 0.5046 - recall: 0.8773 - val_acc: 0.5098 - val_auc: 0.6483 - val_loss: 4.5738 - val_precision: 0.1951 - val_recall: 0.4841 - learning_rate: 1.0000e-05\n",
            "Epoch 16/50\n",
            "\u001b[1m115/115\u001b[0m \u001b[32m━━━━━━━━━━━━━━━━━━━━\u001b[0m\u001b[37m\u001b[0m \u001b[1m35s\u001b[0m 299ms/step - acc: 0.8255 - auc: 0.9034 - loss: 2.0515 - precision: 0.5296 - recall: 0.8915 - val_acc: 0.6058 - val_auc: 0.5470 - val_loss: 5.9361 - val_precision: 0.2003 - val_recall: 0.3413 - learning_rate: 1.0000e-05\n",
            "Epoch 17/50\n",
            "\u001b[1m115/115\u001b[0m \u001b[32m━━━━━━━━━━━━━━━━━━━━\u001b[0m\u001b[37m\u001b[0m \u001b[1m37s\u001b[0m 321ms/step - acc: 0.8376 - auc: 0.9260 - loss: 1.5089 - precision: 0.5497 - recall: 0.8959 - val_acc: 0.8375 - val_auc: 0.9212 - val_loss: 1.3835 - val_precision: 0.5535 - val_recall: 0.8624 - learning_rate: 2.0000e-06\n",
            "Epoch 18/50\n",
            "\u001b[1m115/115\u001b[0m \u001b[32m━━━━━━━━━━━━━━━━━━━━\u001b[0m\u001b[37m\u001b[0m \u001b[1m37s\u001b[0m 316ms/step - acc: 0.8411 - auc: 0.9262 - loss: 1.4044 - precision: 0.5565 - recall: 0.8853 - val_acc: 0.7709 - val_auc: 0.8092 - val_loss: 2.6315 - val_precision: 0.4218 - val_recall: 0.4709 - learning_rate: 2.0000e-06\n",
            "Epoch 19/50\n",
            "\u001b[1m115/115\u001b[0m \u001b[32m━━━━━━━━━━━━━━━━━━━━\u001b[0m\u001b[37m\u001b[0m \u001b[1m38s\u001b[0m 328ms/step - acc: 0.8494 - auc: 0.9308 - loss: 1.3120 - precision: 0.5717 - recall: 0.8918 - val_acc: 0.8746 - val_auc: 0.9465 - val_loss: 0.9026 - val_precision: 0.6190 - val_recall: 0.9286 - learning_rate: 2.0000e-06\n",
            "Epoch 20/50\n",
            "\u001b[1m115/115\u001b[0m \u001b[32m━━━━━━━━━━━━━━━━━━━━\u001b[0m\u001b[37m\u001b[0m \u001b[1m38s\u001b[0m 330ms/step - acc: 0.8570 - auc: 0.9425 - loss: 1.1833 - precision: 0.5855 - recall: 0.8953 - val_acc: 0.8576 - val_auc: 0.9458 - val_loss: 0.9586 - val_precision: 0.5859 - val_recall: 0.9206 - learning_rate: 2.0000e-06\n",
            "Epoch 21/50\n",
            "\u001b[1m115/115\u001b[0m \u001b[32m━━━━━━━━━━━━━━━━━━━━\u001b[0m\u001b[37m\u001b[0m \u001b[1m35s\u001b[0m 302ms/step - acc: 0.8629 - auc: 0.9447 - loss: 1.1498 - precision: 0.5962 - recall: 0.9056 - val_acc: 0.7988 - val_auc: 0.8487 - val_loss: 2.1511 - val_precision: 0.4845 - val_recall: 0.4974 - learning_rate: 2.0000e-06\n",
            "Epoch 22/50\n",
            "\u001b[1m115/115\u001b[0m \u001b[32m━━━━━━━━━━━━━━━━━━━━\u001b[0m\u001b[37m\u001b[0m \u001b[1m36s\u001b[0m 311ms/step - acc: 0.8684 - auc: 0.9431 - loss: 1.1376 - precision: 0.6090 - recall: 0.8983 - val_acc: 0.8720 - val_auc: 0.9430 - val_loss: 1.0122 - val_precision: 0.6729 - val_recall: 0.6693 - learning_rate: 2.0000e-06\n",
            "Epoch 23/50\n",
            "\u001b[1m115/115\u001b[0m \u001b[32m━━━━━━━━━━━━━━━━━━━━\u001b[0m\u001b[37m\u001b[0m \u001b[1m37s\u001b[0m 323ms/step - acc: 0.8722 - auc: 0.9525 - loss: 1.0355 - precision: 0.6157 - recall: 0.9056 - val_acc: 0.9169 - val_auc: 0.9588 - val_loss: 0.8249 - val_precision: 0.7192 - val_recall: 0.9418 - learning_rate: 1.0000e-06\n",
            "Epoch 24/50\n",
            "\u001b[1m115/115\u001b[0m \u001b[32m━━━━━━━━━━━━━━━━━━━━\u001b[0m\u001b[37m\u001b[0m \u001b[1m38s\u001b[0m 326ms/step - acc: 0.8783 - auc: 0.9506 - loss: 1.0400 - precision: 0.6280 - recall: 0.9126 - val_acc: 0.8922 - val_auc: 0.9486 - val_loss: 1.0322 - val_precision: 0.6597 - val_recall: 0.9233 - learning_rate: 1.0000e-06\n",
            "Epoch 25/50\n",
            "\u001b[1m115/115\u001b[0m \u001b[32m━━━━━━━━━━━━━━━━━━━━\u001b[0m\u001b[37m\u001b[0m \u001b[1m35s\u001b[0m 301ms/step - acc: 0.8830 - auc: 0.9520 - loss: 1.0126 - precision: 0.6374 - recall: 0.9191 - val_acc: 0.9051 - val_auc: 0.9565 - val_loss: 0.8850 - val_precision: 0.6917 - val_recall: 0.9259 - learning_rate: 1.0000e-06\n",
            "Epoch 26/50\n",
            "\u001b[1m115/115\u001b[0m \u001b[32m━━━━━━━━━━━━━━━━━━━━\u001b[0m\u001b[37m\u001b[0m \u001b[1m35s\u001b[0m 302ms/step - acc: 0.8868 - auc: 0.9557 - loss: 0.9620 - precision: 0.6466 - recall: 0.9170 - val_acc: 0.9045 - val_auc: 0.9489 - val_loss: 1.0132 - val_precision: 0.6934 - val_recall: 0.9153 - learning_rate: 1.0000e-06\n",
            "Epoch 27/50\n",
            "\u001b[1m115/115\u001b[0m \u001b[32m━━━━━━━━━━━━━━━━━━━━\u001b[0m\u001b[37m\u001b[0m \u001b[1m35s\u001b[0m 304ms/step - acc: 0.8954 - auc: 0.9607 - loss: 0.9336 - precision: 0.6647 - recall: 0.9301 - val_acc: 0.9092 - val_auc: 0.9531 - val_loss: 0.9680 - val_precision: 0.7028 - val_recall: 0.9259 - learning_rate: 1.0000e-06\n",
            "Epoch 28/50\n",
            "\u001b[1m115/115\u001b[0m \u001b[32m━━━━━━━━━━━━━━━━━━━━\u001b[0m\u001b[37m\u001b[0m \u001b[1m44s\u001b[0m 331ms/step - acc: 0.8926 - auc: 0.9569 - loss: 0.9497 - precision: 0.6583 - recall: 0.9273 - val_acc: 0.9154 - val_auc: 0.9589 - val_loss: 0.7990 - val_precision: 0.7211 - val_recall: 0.9233 - learning_rate: 1.0000e-06\n",
            "Epoch 29/50\n",
            "\u001b[1m115/115\u001b[0m \u001b[32m━━━━━━━━━━━━━━━━━━━━\u001b[0m\u001b[37m\u001b[0m \u001b[1m39s\u001b[0m 341ms/step - acc: 0.8923 - auc: 0.9626 - loss: 0.9281 - precision: 0.6598 - recall: 0.9170 - val_acc: 0.9247 - val_auc: 0.9591 - val_loss: 0.8449 - val_precision: 0.7468 - val_recall: 0.9286 - learning_rate: 1.0000e-06\n",
            "Epoch 30/50\n",
            "\u001b[1m115/115\u001b[0m \u001b[32m━━━━━━━━━━━━━━━━━━━━\u001b[0m\u001b[37m\u001b[0m \u001b[1m37s\u001b[0m 323ms/step - acc: 0.8985 - auc: 0.9643 - loss: 0.8838 - precision: 0.6757 - recall: 0.9146 - val_acc: 0.9216 - val_auc: 0.9584 - val_loss: 0.8910 - val_precision: 0.7364 - val_recall: 0.9312 - learning_rate: 1.0000e-06\n",
            "Epoch 31/50\n",
            "\u001b[1m115/115\u001b[0m \u001b[32m━━━━━━━━━━━━━━━━━━━━\u001b[0m\u001b[37m\u001b[0m \u001b[1m35s\u001b[0m 301ms/step - acc: 0.9008 - auc: 0.9627 - loss: 0.8898 - precision: 0.6757 - recall: 0.9399 - val_acc: 0.9020 - val_auc: 0.9520 - val_loss: 0.9905 - val_precision: 0.6858 - val_recall: 0.9180 - learning_rate: 1.0000e-06\n",
            "Epoch 32/50\n",
            "\u001b[1m115/115\u001b[0m \u001b[32m━━━━━━━━━━━━━━━━━━━━\u001b[0m\u001b[37m\u001b[0m \u001b[1m37s\u001b[0m 321ms/step - acc: 0.9059 - auc: 0.9669 - loss: 0.8482 - precision: 0.6885 - recall: 0.9397 - val_acc: 0.9340 - val_auc: 0.9611 - val_loss: 0.7610 - val_precision: 0.7694 - val_recall: 0.9444 - learning_rate: 1.0000e-06\n",
            "Epoch 33/50\n",
            "\u001b[1m115/115\u001b[0m \u001b[32m━━━━━━━━━━━━━━━━━━━━\u001b[0m\u001b[37m\u001b[0m \u001b[1m39s\u001b[0m 334ms/step - acc: 0.9056 - auc: 0.9700 - loss: 0.8273 - precision: 0.6882 - recall: 0.9382 - val_acc: 0.9438 - val_auc: 0.9652 - val_loss: 0.6618 - val_precision: 0.8165 - val_recall: 0.9180 - learning_rate: 1.0000e-06\n",
            "Epoch 34/50\n",
            "\u001b[1m115/115\u001b[0m \u001b[32m━━━━━━━━━━━━━━━━━━━━\u001b[0m\u001b[37m\u001b[0m \u001b[1m37s\u001b[0m 317ms/step - acc: 0.9094 - auc: 0.9690 - loss: 0.8291 - precision: 0.6982 - recall: 0.9373 - val_acc: 0.9298 - val_auc: 0.9626 - val_loss: 0.7569 - val_precision: 0.7642 - val_recall: 0.9259 - learning_rate: 1.0000e-06\n",
            "Epoch 35/50\n",
            "\u001b[1m115/115\u001b[0m \u001b[32m━━━━━━━━━━━━━━━━━━━━\u001b[0m\u001b[37m\u001b[0m \u001b[1m35s\u001b[0m 301ms/step - acc: 0.9146 - auc: 0.9706 - loss: 0.8042 - precision: 0.7107 - recall: 0.9430 - val_acc: 0.9365 - val_auc: 0.9637 - val_loss: 0.6825 - val_precision: 0.8087 - val_recall: 0.8836 - learning_rate: 1.0000e-06\n",
            "Epoch 36/50\n",
            "\u001b[1m115/115\u001b[0m \u001b[32m━━━━━━━━━━━━━━━━━━━━\u001b[0m\u001b[37m\u001b[0m \u001b[1m37s\u001b[0m 321ms/step - acc: 0.9076 - auc: 0.9687 - loss: 0.8275 - precision: 0.6935 - recall: 0.9375 - val_acc: 0.9515 - val_auc: 0.9681 - val_loss: 0.6288 - val_precision: 0.8463 - val_recall: 0.9180 - learning_rate: 1.0000e-06\n",
            "Epoch 37/50\n",
            "\u001b[1m115/115\u001b[0m \u001b[32m━━━━━━━━━━━━━━━━━━━━\u001b[0m\u001b[37m\u001b[0m \u001b[1m39s\u001b[0m 334ms/step - acc: 0.9134 - auc: 0.9697 - loss: 0.7992 - precision: 0.7119 - recall: 0.9290 - val_acc: 0.9427 - val_auc: 0.9703 - val_loss: 0.6509 - val_precision: 0.8041 - val_recall: 0.9339 - learning_rate: 1.0000e-06\n",
            "Epoch 38/50\n",
            "\u001b[1m115/115\u001b[0m \u001b[32m━━━━━━━━━━━━━━━━━━━━\u001b[0m\u001b[37m\u001b[0m \u001b[1m37s\u001b[0m 319ms/step - acc: 0.9149 - auc: 0.9751 - loss: 0.7617 - precision: 0.7124 - recall: 0.9419 - val_acc: 0.9360 - val_auc: 0.9641 - val_loss: 0.7561 - val_precision: 0.7822 - val_recall: 0.9312 - learning_rate: 1.0000e-06\n",
            "Epoch 39/50\n",
            "\u001b[1m115/115\u001b[0m \u001b[32m━━━━━━━━━━━━━━━━━━━━\u001b[0m\u001b[37m\u001b[0m \u001b[1m35s\u001b[0m 303ms/step - acc: 0.9179 - auc: 0.9725 - loss: 0.7741 - precision: 0.7180 - recall: 0.9487 - val_acc: 0.9298 - val_auc: 0.9579 - val_loss: 0.8350 - val_precision: 0.7677 - val_recall: 0.9180 - learning_rate: 1.0000e-06\n",
            "Epoch 40/50\n",
            "\u001b[1m115/115\u001b[0m \u001b[32m━━━━━━━━━━━━━━━━━━━━\u001b[0m\u001b[37m\u001b[0m \u001b[1m35s\u001b[0m 300ms/step - acc: 0.9130 - auc: 0.9737 - loss: 0.7750 - precision: 0.7065 - recall: 0.9427 - val_acc: 0.9133 - val_auc: 0.9469 - val_loss: 1.0315 - val_precision: 0.7206 - val_recall: 0.9074 - learning_rate: 1.0000e-06\n",
            "Epoch 41/50\n",
            "\u001b[1m115/115\u001b[0m \u001b[32m━━━━━━━━━━━━━━━━━━━━\u001b[0m\u001b[37m\u001b[0m \u001b[1m35s\u001b[0m 303ms/step - acc: 0.9237 - auc: 0.9779 - loss: 0.7258 - precision: 0.7351 - recall: 0.9483 - val_acc: 0.9422 - val_auc: 0.9640 - val_loss: 0.7461 - val_precision: 0.8009 - val_recall: 0.9365 - learning_rate: 1.0000e-06\n",
            "Epoch 42/50\n",
            "\u001b[1m115/115\u001b[0m \u001b[32m━━━━━━━━━━━━━━━━━━━━\u001b[0m\u001b[37m\u001b[0m \u001b[1m35s\u001b[0m 303ms/step - acc: 0.9204 - auc: 0.9792 - loss: 0.7259 - precision: 0.7255 - recall: 0.9475 - val_acc: 0.9525 - val_auc: 0.9685 - val_loss: 0.6321 - val_precision: 0.8405 - val_recall: 0.9339 - learning_rate: 1.0000e-06\n",
            "Epoch 43/50\n",
            "\u001b[1m115/115\u001b[0m \u001b[32m━━━━━━━━━━━━━━━━━━━━\u001b[0m\u001b[37m\u001b[0m \u001b[1m35s\u001b[0m 301ms/step - acc: 0.9284 - auc: 0.9770 - loss: 0.7259 - precision: 0.7482 - recall: 0.9511 - val_acc: 0.9453 - val_auc: 0.9621 - val_loss: 0.7530 - val_precision: 0.8148 - val_recall: 0.9312 - learning_rate: 1.0000e-06\n",
            "Epoch 44/50\n",
            "\u001b[1m115/115\u001b[0m \u001b[32m━━━━━━━━━━━━━━━━━━━━\u001b[0m\u001b[37m\u001b[0m \u001b[1m35s\u001b[0m 301ms/step - acc: 0.9264 - auc: 0.9790 - loss: 0.7141 - precision: 0.7407 - recall: 0.9547 - val_acc: 0.9370 - val_auc: 0.9580 - val_loss: 0.8409 - val_precision: 0.7909 - val_recall: 0.9206 - learning_rate: 1.0000e-06\n"
          ]
        }
      ]
    },
    {
      "cell_type": "code",
      "source": [
        "#Load the Best Saved Model\n",
        "print(f\"Loading best model from: {DENSENET_MODEL_PATH}\")\n",
        "loaded_model = tf.keras.models.load_model(\n",
        "    DENSENET_MODEL_PATH,\n",
        "    custom_objects={\"weighted_bce\": weighted_bce}\n",
        ")\n",
        "print(\"Model loaded successfully!\")\n",
        "\n",
        "#Evaluate on the Unseen Test Set\n",
        "print(\"\\nEvaluating the final model on the test set...\")\n",
        "test_results = loaded_model.evaluate(test_ds, return_dict=False)\n",
        "\n",
        "print(\"\\nFinal Test Set Evaluation Results\")\n",
        "for metric, value in zip(loaded_model.metrics_names, test_results):\n",
        "    print(f\"{metric}: {value:.4f}\")\n",
        "\n",
        "#Get Model Size\n",
        "file_size_bytes = os.path.getsize(DENSENET_MODEL_PATH)\n",
        "file_size_mb = file_size_bytes / (1024 * 1024)\n",
        "print(f\"\\nModel Size on Disk: {file_size_mb:.2f} MB\")\n",
        "\n",
        "#Get Training Time\n",
        "if 'history_head' in locals() and 'history_fine_tune' in locals():\n",
        "    total_epochs_ran = len(history_head.history['loss']) + len(history_fine_tune.history['loss'])\n",
        "    print(f\"Total Epochs Trained: {total_epochs_ran}\")\n",
        "    print(\"(Check Colab cell execution time for total training duration)\")"
      ],
      "metadata": {
        "id": "7t7RBRY4p99k",
        "colab": {
          "base_uri": "https://localhost:8080/"
        },
        "outputId": "9249dc0b-c524-4857-c477-f36dc2d8e947"
      },
      "execution_count": null,
      "outputs": [
        {
          "output_type": "stream",
          "name": "stdout",
          "text": [
            "Loading best model from: /content/drive/MyDrive/skincareapp/acne clean pigmentation wrinkles/densenet_skin_model.keras\n",
            "Model loaded successfully!\n",
            "\n",
            "Evaluating the final model on the test set...\n",
            "\u001b[1m24/24\u001b[0m \u001b[32m━━━━━━━━━━━━━━━━━━━━\u001b[0m\u001b[37m\u001b[0m \u001b[1m34s\u001b[0m 743ms/step - acc: 0.9426 - auc: 0.9754 - loss: 0.7059 - precision: 0.8079 - recall: 0.9132\n",
            "\n",
            "Final Test Set Evaluation Results\n",
            "loss: 0.6671\n",
            "compile_metrics: 0.9487\n",
            "\n",
            "Model Size on Disk: 81.64 MB\n",
            "Total Epochs Trained: 44\n",
            "(Check Colab cell execution time for total training duration)\n"
          ]
        }
      ]
    }
  ]
}